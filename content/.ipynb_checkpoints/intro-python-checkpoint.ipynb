{
 "cells": [
  {
   "cell_type": "markdown",
   "metadata": {
    "slideshow": {
     "slide_type": "slide"
    }
   },
   "source": [
    "# Short Note on Python\n",
    "\n",
    "**Christian Vollmann**\n",
    "\n",
    "<center><img src=\"../media/Python_logo.png\" alt=\"\" align=\"center\" width=\"300\"/></center>"
   ]
  },
  {
   "cell_type": "markdown",
   "metadata": {
    "slideshow": {
     "slide_type": "skip"
    }
   },
   "source": [
    "### Programming languages in numerical mathematics (small selection)"
   ]
  },
  {
   "cell_type": "markdown",
   "metadata": {
    "slideshow": {
     "slide_type": "skip"
    }
   },
   "source": [
    "- **Fortran** (FORmula TRANslation) (1957): \n",
    "    - proprietary (e.g. from IBM) and free compilers\n",
    "    - intended for numerical calculations (matrix and vector operations)\n",
    "    - extensive libraries\n",
    "    - LAPACK (**L**inear **A**lgebra **Pack**age) standard library for numerical linear algebra"
   ]
  },
  {
   "cell_type": "markdown",
   "metadata": {
    "slideshow": {
     "slide_type": "skip"
    }
   },
   "source": [
    "- **C** (1972)/ **C++** (1985):\n",
    "    - universal programming language\n",
    "    - Standard libraries for numerics: Armadillo, LAPACK++ (based on LAPACK)"
   ]
  },
  {
   "cell_type": "markdown",
   "metadata": {
    "slideshow": {
     "slide_type": "skip"
    }
   },
   "source": [
    "- **MATLAB** (MATrix LABoratory) (1984): \n",
    "    - commercial software from MathWorks\n",
    "    - designed for numerical mathematics (matrix and vector operations)"
   ]
  },
  {
   "cell_type": "markdown",
   "metadata": {
    "slideshow": {
     "slide_type": "skip"
    }
   },
   "source": [
    "- **Mathematica** (1988): proprietary software from Wolfram Research\n",
    "    - visualization of 2d/3d objects\n",
    "    - symbolic processing of equations"
   ]
  },
  {
   "cell_type": "markdown",
   "metadata": {
    "slideshow": {
     "slide_type": "skip"
    }
   },
   "source": [
    "- **Python** (1990): open source\n",
    "    - universal programming language (several application areas)\n",
    "    - for numerical calculations: SciPy (2001), NumPy (1995,2006), matplotlib (2003)."
   ]
  },
  {
   "cell_type": "markdown",
   "metadata": {
    "slideshow": {
     "slide_type": "skip"
    }
   },
   "source": [
    "- **Julia** (2012): open source\n",
    "    - developed mainly for scientific computing\n",
    "    - syntax is strongly reminiscent of MATLAB\n",
    "    - Execution speed is in the range of C and Fortran"
   ]
  },
  {
   "cell_type": "markdown",
   "metadata": {
    "slideshow": {
     "slide_type": "slide"
    }
   },
   "source": [
    "All programming related parts of this lecture will be presented and implemented using **Python 3**  "
   ]
  },
  {
   "cell_type": "markdown",
   "metadata": {
    "slideshow": {
     "slide_type": "fragment"
    }
   },
   "source": [
    "**Why Python?**\n",
    "\n",
    " - universal, multi-purpose programming language\n",
    " - open source and free (Python Software Foundation License (PSFL))\n",
    " - multi-platform (runs on all operating systems)\n",
    " - design philosophy: easy syntax, readable code (almost looks like pseudocode)\n"
   ]
  },
  {
   "cell_type": "markdown",
   "metadata": {
    "slideshow": {
     "slide_type": "fragment"
    }
   },
   "source": [
    "https://www.youtube.com/watch?v=M0vBoBqqjr0"
   ]
  },
  {
   "cell_type": "markdown",
   "metadata": {
    "slideshow": {
     "slide_type": "slide"
    }
   },
   "source": [
    "### Background\n",
    "\n",
    "<img src=\"../media/life-of-brian.jpg\" align=\"right\" alt=\"\" width=\"180\"/>\n",
    "\n",
    "- developed in 1990 by Guido van Rossum (Netherlands)\n",
    "    - name is homage to Monty Python\n",
    "- interpreter (scripting) programming language ($\\neq$ compiled language such as C or Fortran)\n",
    "- used by: Google Mail, Google Maps, YouTube, Dropbox, ...\n",
    "- for scientific computing we use from the Scipy Stack: **SciPy** (2001), **NumPy** (1995,2006), **matplotlib** (2003)\n",
    "    \n",
    "    \n"
   ]
  },
  {
   "cell_type": "markdown",
   "metadata": {
    "slideshow": {
     "slide_type": "slide"
    }
   },
   "source": [
    "### Programming Workflow\n",
    "*(-> demo)*\n",
    "\n",
    "\n",
    "\n",
    "#### CLI\n",
    "- Basically every text editor can be used (emacs, vi, vim, nano, geany, gedit,...)\n",
    "    - many editors provide syntax highlighting\n",
    "   \n",
    "<img src=\"../media/spyder.png\" alt=\"\" align=\"right\" width=\"100\"/>\n",
    "<img src=\"../media/pycharm.png\" alt=\"\" align=\"right\" width=\"100\"/>\n",
    "<img src=\"../media/pycharm_screen.png\" align=\"right\" alt=\"\" width=\"100\"/>\n",
    "\n",
    "#### IDE\n",
    "\n",
    "For software development it is often more convient to use an **integrated development environment (IDE)** such as Spyder or PyCharm \n",
    "\n",
    "*(--> sign up to jetbrains with your university account and you can get the PyCharm professional edition!)*\n",
    "\n",
    "\n"
   ]
  },
  {
   "cell_type": "markdown",
   "metadata": {
    "slideshow": {
     "slide_type": "slide"
    }
   },
   "source": [
    "In this lecture we use:\n",
    "\n",
    "#### Jupyter Notebook\n",
    "\n",
    "\n",
    "- open source, *web based* interactive environment $\\rightarrow$ thus multi-platform\n",
    "- developed by **Project Juypter** (NPO)\n",
    "- name refers to: **Ju**lia, **Pyt**hon, **R**"
   ]
  },
  {
   "cell_type": "markdown",
   "metadata": {
    "slideshow": {
     "slide_type": "fragment"
    }
   },
   "source": [
    "some **features** include:\n",
    "\n",
    "- multi-language (Julia, Python, R,...)\n",
    "- include text, formula and media via: markdown, html, LaTex,...\n",
    "- multiple export options (pdf, LaTex,...) \n",
    "- you can include: markdown, html, LaTeX,...\n",
    "- and therefore also: images, pdfs, mathematical formulas,...\n",
    "- files can be exported as: html, slideshows, Latex .tex, PDF .pdf, ...\n"
   ]
  },
  {
   "cell_type": "markdown",
   "metadata": {
    "slideshow": {
     "slide_type": "slide"
    }
   },
   "source": [
    " - the whole process can be documented:\n",
    "\n",
    "   Coding --> Documentation --> Run --> Communication and Presentation\n",
    "        \n",
    "        \n",
    " - in fact, a jupyter notebook contains all the input **and** output of an interactive session plus additional text \n",
    "\t\n",
    "   --> complete record!\t\n",
    "        \n",
    "        \n",
    " - client VS server\n",
    "    - client (local lightweight machine): browser-based workflow\n",
    "    - server (remote, number cruncher): does the actual computation"
   ]
  },
  {
   "cell_type": "markdown",
   "metadata": {
    "slideshow": {
     "slide_type": "slide"
    }
   },
   "source": [
    "### Get Started\n",
    "\n",
    "<img align = 'right' src=\"../media/anaconda.png\" alt=\"\" width=\"350\"/>\n",
    "\n",
    " - We recommend to download the distribution ***Anaconda***:   https://www.anaconda.com/distribution/\n",
    "\n",
    "   --> available for Linux, Windows, and MacOS\n",
    "\n",
    "\n",
    " - Comes along with:\n",
    "   - graphical user interface (*Anaconda Navigator*)\n",
    "   - Spyder, Jupyter Notebook, RStudio (IDE for R)\n",
    "   - installs all important packages (NumPy, SciPy, matplotlib, TensorFlow, scikit-learn,$\\ldots$)\n",
    "   - package manager (*Conda*) (standard is *pip*)\n"
   ]
  },
  {
   "cell_type": "markdown",
   "metadata": {
    "slideshow": {
     "slide_type": "slide"
    }
   },
   "source": [
    "**Tutorials**\n",
    "\n",
    " - Quickstart to Jupyter Notebook:\n",
    "        \n",
    "    https://jupyter.readthedocs.io/en/latest/content-quickstart.html \n",
    "        \n",
    "        \n",
    " - Scientific computing with Python: \n",
    " \n",
    "    https://scipy-lectures.org/\n",
    "\n",
    "**First Exercise**\n",
    "\n",
    " - check out the course repository on olat and upload a 'hello world' juypter notebook into the homework folder 'Test' with the correct formatting for homework submissions \n",
    " \n",
    "  https://olat.vcrp.de/url/RepositoryEntry/2782398306/CourseNode/102353864883827\n",
    " "
   ]
  },
  {
   "cell_type": "markdown",
   "metadata": {
    "slideshow": {
     "slide_type": "slide"
    }
   },
   "source": [
    "Final **remark**:\n",
    "\n",
    " - For Software development I would always go with an IDE due to the many additional tools: variable explorer, version control, etc.\n",
    "\n",
    " - I will present my programming solutions therefore as a Python (`.py`) script in an IDE.\n",
    "\n",
    " - However, Jupyter Notebooks are very well suited for presentations and thus teaching. In particular for mandatory submissions, since the tutor can see your output, even if the program does not run on his machine (for whatever reasons).  "
   ]
  }
 ],
 "metadata": {
  "celltoolbar": "Slideshow",
  "kernelspec": {
   "display_name": "Python 3",
   "language": "python",
   "name": "python3"
  },
  "language_info": {
   "codemirror_mode": {
    "name": "ipython",
    "version": 3
   },
   "file_extension": ".py",
   "mimetype": "text/x-python",
   "name": "python",
   "nbconvert_exporter": "python",
   "pygments_lexer": "ipython3",
   "version": "3.8.10"
  },
  "latex_envs": {
   "LaTeX_envs_menu_present": true,
   "autoclose": false,
   "autocomplete": true,
   "bibliofile": "biblio.bib",
   "cite_by": "apalike",
   "current_citInitial": 1,
   "eqLabelWithNumbers": true,
   "eqNumInitial": 1,
   "hotkeys": {
    "equation": "Ctrl-E",
    "itemize": "Ctrl-I"
   },
   "labels_anchors": false,
   "latex_user_defs": false,
   "report_style_numbering": false,
   "user_envs_cfg": false
  },
  "toc": {
   "base_numbering": 1,
   "nav_menu": {},
   "number_sections": true,
   "sideBar": true,
   "skip_h1_title": false,
   "title_cell": "Table of Contents",
   "title_sidebar": "Contents",
   "toc_cell": false,
   "toc_position": {},
   "toc_section_display": true,
   "toc_window_display": false
  }
 },
 "nbformat": 4,
 "nbformat_minor": 4
}
